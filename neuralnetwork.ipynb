{
 "cells": [
  {
   "cell_type": "code",
   "execution_count": 1,
   "metadata": {},
   "outputs": [],
   "source": [
    "import seaborn as sns"
   ]
  },
  {
   "cell_type": "code",
   "execution_count": 56,
   "metadata": {},
   "outputs": [],
   "source": [
    "import pandas as pd\n",
    "\n",
    "train_data = pd.read_csv('train.csv')\n",
    "test_data = pd.read_csv('test.csv')"
   ]
  },
  {
   "cell_type": "code",
   "execution_count": 41,
   "metadata": {},
   "outputs": [
    {
     "data": {
      "text/html": [
       "<div>\n",
       "<style scoped>\n",
       "    .dataframe tbody tr th:only-of-type {\n",
       "        vertical-align: middle;\n",
       "    }\n",
       "\n",
       "    .dataframe tbody tr th {\n",
       "        vertical-align: top;\n",
       "    }\n",
       "\n",
       "    .dataframe thead th {\n",
       "        text-align: right;\n",
       "    }\n",
       "</style>\n",
       "<table border=\"1\" class=\"dataframe\">\n",
       "  <thead>\n",
       "    <tr style=\"text-align: right;\">\n",
       "      <th></th>\n",
       "      <th>Id</th>\n",
       "      <th>fixed acidity</th>\n",
       "      <th>volatile acidity</th>\n",
       "      <th>citric acid</th>\n",
       "      <th>residual sugar</th>\n",
       "      <th>chlorides</th>\n",
       "      <th>free sulfur dioxide</th>\n",
       "      <th>total sulfur dioxide</th>\n",
       "      <th>density</th>\n",
       "      <th>pH</th>\n",
       "      <th>sulphates</th>\n",
       "      <th>alcohol</th>\n",
       "      <th>quality</th>\n",
       "    </tr>\n",
       "  </thead>\n",
       "  <tbody>\n",
       "    <tr>\n",
       "      <th>0</th>\n",
       "      <td>0</td>\n",
       "      <td>8.0</td>\n",
       "      <td>0.50</td>\n",
       "      <td>0.39</td>\n",
       "      <td>2.2</td>\n",
       "      <td>0.073</td>\n",
       "      <td>30.0</td>\n",
       "      <td>39.0</td>\n",
       "      <td>0.99572</td>\n",
       "      <td>3.33</td>\n",
       "      <td>0.77</td>\n",
       "      <td>12.1</td>\n",
       "      <td>6</td>\n",
       "    </tr>\n",
       "    <tr>\n",
       "      <th>1</th>\n",
       "      <td>1</td>\n",
       "      <td>9.3</td>\n",
       "      <td>0.30</td>\n",
       "      <td>0.73</td>\n",
       "      <td>2.3</td>\n",
       "      <td>0.092</td>\n",
       "      <td>30.0</td>\n",
       "      <td>67.0</td>\n",
       "      <td>0.99854</td>\n",
       "      <td>3.32</td>\n",
       "      <td>0.67</td>\n",
       "      <td>12.8</td>\n",
       "      <td>6</td>\n",
       "    </tr>\n",
       "    <tr>\n",
       "      <th>2</th>\n",
       "      <td>2</td>\n",
       "      <td>7.1</td>\n",
       "      <td>0.51</td>\n",
       "      <td>0.03</td>\n",
       "      <td>2.1</td>\n",
       "      <td>0.059</td>\n",
       "      <td>3.0</td>\n",
       "      <td>12.0</td>\n",
       "      <td>0.99660</td>\n",
       "      <td>3.52</td>\n",
       "      <td>0.73</td>\n",
       "      <td>11.3</td>\n",
       "      <td>7</td>\n",
       "    </tr>\n",
       "    <tr>\n",
       "      <th>3</th>\n",
       "      <td>3</td>\n",
       "      <td>8.1</td>\n",
       "      <td>0.87</td>\n",
       "      <td>0.22</td>\n",
       "      <td>2.6</td>\n",
       "      <td>0.084</td>\n",
       "      <td>11.0</td>\n",
       "      <td>65.0</td>\n",
       "      <td>0.99730</td>\n",
       "      <td>3.20</td>\n",
       "      <td>0.53</td>\n",
       "      <td>9.8</td>\n",
       "      <td>5</td>\n",
       "    </tr>\n",
       "    <tr>\n",
       "      <th>4</th>\n",
       "      <td>4</td>\n",
       "      <td>8.5</td>\n",
       "      <td>0.36</td>\n",
       "      <td>0.30</td>\n",
       "      <td>2.3</td>\n",
       "      <td>0.079</td>\n",
       "      <td>10.0</td>\n",
       "      <td>45.0</td>\n",
       "      <td>0.99444</td>\n",
       "      <td>3.20</td>\n",
       "      <td>1.36</td>\n",
       "      <td>9.5</td>\n",
       "      <td>6</td>\n",
       "    </tr>\n",
       "  </tbody>\n",
       "</table>\n",
       "</div>"
      ],
      "text/plain": [
       "   Id  fixed acidity  volatile acidity  citric acid  residual sugar  \\\n",
       "0   0            8.0              0.50         0.39             2.2   \n",
       "1   1            9.3              0.30         0.73             2.3   \n",
       "2   2            7.1              0.51         0.03             2.1   \n",
       "3   3            8.1              0.87         0.22             2.6   \n",
       "4   4            8.5              0.36         0.30             2.3   \n",
       "\n",
       "   chlorides  free sulfur dioxide  total sulfur dioxide  density    pH  \\\n",
       "0      0.073                 30.0                  39.0  0.99572  3.33   \n",
       "1      0.092                 30.0                  67.0  0.99854  3.32   \n",
       "2      0.059                  3.0                  12.0  0.99660  3.52   \n",
       "3      0.084                 11.0                  65.0  0.99730  3.20   \n",
       "4      0.079                 10.0                  45.0  0.99444  3.20   \n",
       "\n",
       "   sulphates  alcohol  quality  \n",
       "0       0.77     12.1        6  \n",
       "1       0.67     12.8        6  \n",
       "2       0.73     11.3        7  \n",
       "3       0.53      9.8        5  \n",
       "4       1.36      9.5        6  "
      ]
     },
     "execution_count": 41,
     "metadata": {},
     "output_type": "execute_result"
    }
   ],
   "source": [
    "train_data.head()"
   ]
  },
  {
   "cell_type": "code",
   "execution_count": 57,
   "metadata": {},
   "outputs": [],
   "source": [
    "y = train_data['quality']\n",
    "x = train_data.drop(['quality','Id'], axis=1)\n",
    "x_test = test_data.drop('Id', axis=1)"
   ]
  },
  {
   "cell_type": "code",
   "execution_count": 58,
   "metadata": {},
   "outputs": [],
   "source": [
    "from sklearn.preprocessing import OneHotEncoder\n",
    "\n",
    "ohe = OneHotEncoder(sparse_output=False)\n",
    "y = pd.DataFrame(ohe.fit_transform(y.values.reshape(-1,1)))\n",
    "y.index = train_data.index"
   ]
  },
  {
   "cell_type": "code",
   "execution_count": 31,
   "metadata": {},
   "outputs": [
    {
     "data": {
      "text/plain": [
       "[array([3, 4, 5, 6, 7, 8], dtype=int64)]"
      ]
     },
     "execution_count": 31,
     "metadata": {},
     "output_type": "execute_result"
    }
   ],
   "source": [
    "ohe.categories_"
   ]
  },
  {
   "cell_type": "code",
   "execution_count": 46,
   "metadata": {},
   "outputs": [
    {
     "data": {
      "text/plain": [
       "(2056, 6)"
      ]
     },
     "execution_count": 46,
     "metadata": {},
     "output_type": "execute_result"
    }
   ],
   "source": [
    "y.shape"
   ]
  },
  {
   "cell_type": "code",
   "execution_count": 59,
   "metadata": {},
   "outputs": [],
   "source": [
    "from sklearn.preprocessing import MinMaxScaler\n",
    "\n",
    "scaler = MinMaxScaler()\n",
    "x = pd.DataFrame(scaler.fit_transform(x), columns=x.columns)\n",
    "x_test = pd.DataFrame(scaler.transform(x_test), columns=x_test.columns)"
   ]
  },
  {
   "cell_type": "code",
   "execution_count": 60,
   "metadata": {},
   "outputs": [],
   "source": [
    "from sklearn.model_selection import train_test_split\n",
    "\n",
    "x_train, x_val, y_train, y_val = train_test_split(x,y,test_size=0.1,random_state=42)"
   ]
  },
  {
   "cell_type": "code",
   "execution_count": 62,
   "metadata": {},
   "outputs": [],
   "source": [
    "from tensorflow import keras\n",
    "from tensorflow.keras import layers\n",
    "\n",
    "model = keras.Sequential([\n",
    "    layers.Dense(units=11, activation='relu', input_shape=[11]),\n",
    "    layers.Dense(units=66, activation='relu'),\n",
    "    layers.Dense(units=6, activation='softmax')\n",
    "])"
   ]
  },
  {
   "cell_type": "code",
   "execution_count": 63,
   "metadata": {},
   "outputs": [],
   "source": [
    "model.compile(optimizer='Adam', loss=\"categorical_crossentropy\", metrics=[\"accuracy\"])"
   ]
  },
  {
   "cell_type": "code",
   "execution_count": 64,
   "metadata": {},
   "outputs": [],
   "source": [
    "early_stopping = keras.callbacks.EarlyStopping(patience=5, min_delta=0.001, restore_best_weights=True)"
   ]
  },
  {
   "cell_type": "code",
   "execution_count": 65,
   "metadata": {},
   "outputs": [
    {
     "name": "stdout",
     "output_type": "stream",
     "text": [
      "Epoch 1/200\n",
      "10/10 [==============================] - 2s 51ms/step - loss: 1.7471 - accuracy: 0.3627 - val_loss: 1.6981 - val_accuracy: 0.3786\n",
      "Epoch 2/200\n",
      "10/10 [==============================] - 0s 10ms/step - loss: 1.6641 - accuracy: 0.3784 - val_loss: 1.6160 - val_accuracy: 0.3786\n",
      "Epoch 3/200\n",
      "10/10 [==============================] - 0s 7ms/step - loss: 1.5782 - accuracy: 0.3784 - val_loss: 1.5285 - val_accuracy: 0.3835\n",
      "Epoch 4/200\n",
      "10/10 [==============================] - 0s 9ms/step - loss: 1.4861 - accuracy: 0.3897 - val_loss: 1.4360 - val_accuracy: 0.4320\n",
      "Epoch 5/200\n",
      "10/10 [==============================] - 0s 9ms/step - loss: 1.3927 - accuracy: 0.4319 - val_loss: 1.3504 - val_accuracy: 0.4757\n",
      "Epoch 6/200\n",
      "10/10 [==============================] - 0s 8ms/step - loss: 1.3131 - accuracy: 0.5097 - val_loss: 1.2848 - val_accuracy: 0.5049\n",
      "Epoch 7/200\n",
      "10/10 [==============================] - 0s 8ms/step - loss: 1.2570 - accuracy: 0.5411 - val_loss: 1.2447 - val_accuracy: 0.5146\n",
      "Epoch 8/200\n",
      "10/10 [==============================] - 0s 8ms/step - loss: 1.2230 - accuracy: 0.5238 - val_loss: 1.2225 - val_accuracy: 0.5049\n",
      "Epoch 9/200\n",
      "10/10 [==============================] - 0s 9ms/step - loss: 1.2024 - accuracy: 0.5281 - val_loss: 1.2056 - val_accuracy: 0.5146\n",
      "Epoch 10/200\n",
      "10/10 [==============================] - 0s 8ms/step - loss: 1.1847 - accuracy: 0.5373 - val_loss: 1.1934 - val_accuracy: 0.5000\n",
      "Epoch 11/200\n",
      "10/10 [==============================] - 0s 8ms/step - loss: 1.1699 - accuracy: 0.5243 - val_loss: 1.1840 - val_accuracy: 0.4854\n",
      "Epoch 12/200\n",
      "10/10 [==============================] - 0s 8ms/step - loss: 1.1574 - accuracy: 0.5184 - val_loss: 1.1719 - val_accuracy: 0.5049\n",
      "Epoch 13/200\n",
      "10/10 [==============================] - 0s 9ms/step - loss: 1.1432 - accuracy: 0.5308 - val_loss: 1.1608 - val_accuracy: 0.5000\n",
      "Epoch 14/200\n",
      "10/10 [==============================] - 0s 7ms/step - loss: 1.1308 - accuracy: 0.5357 - val_loss: 1.1532 - val_accuracy: 0.5097\n",
      "Epoch 15/200\n",
      "10/10 [==============================] - 0s 8ms/step - loss: 1.1199 - accuracy: 0.5395 - val_loss: 1.1454 - val_accuracy: 0.5097\n",
      "Epoch 16/200\n",
      "10/10 [==============================] - 0s 8ms/step - loss: 1.1094 - accuracy: 0.5341 - val_loss: 1.1414 - val_accuracy: 0.5000\n",
      "Epoch 17/200\n",
      "10/10 [==============================] - 0s 7ms/step - loss: 1.1008 - accuracy: 0.5362 - val_loss: 1.1349 - val_accuracy: 0.5097\n",
      "Epoch 18/200\n",
      "10/10 [==============================] - 0s 7ms/step - loss: 1.0932 - accuracy: 0.5476 - val_loss: 1.1312 - val_accuracy: 0.5049\n",
      "Epoch 19/200\n",
      "10/10 [==============================] - 0s 8ms/step - loss: 1.0868 - accuracy: 0.5400 - val_loss: 1.1288 - val_accuracy: 0.5146\n",
      "Epoch 20/200\n",
      "10/10 [==============================] - 0s 7ms/step - loss: 1.0823 - accuracy: 0.5503 - val_loss: 1.1248 - val_accuracy: 0.5000\n",
      "Epoch 21/200\n",
      "10/10 [==============================] - 0s 7ms/step - loss: 1.0782 - accuracy: 0.5395 - val_loss: 1.1244 - val_accuracy: 0.5097\n",
      "Epoch 22/200\n",
      "10/10 [==============================] - 0s 7ms/step - loss: 1.0737 - accuracy: 0.5562 - val_loss: 1.1208 - val_accuracy: 0.5146\n",
      "Epoch 23/200\n",
      "10/10 [==============================] - 0s 7ms/step - loss: 1.0706 - accuracy: 0.5573 - val_loss: 1.1213 - val_accuracy: 0.5049\n",
      "Epoch 24/200\n",
      "10/10 [==============================] - 0s 7ms/step - loss: 1.0674 - accuracy: 0.5503 - val_loss: 1.1180 - val_accuracy: 0.5049\n",
      "Epoch 25/200\n",
      "10/10 [==============================] - 0s 7ms/step - loss: 1.0658 - accuracy: 0.5632 - val_loss: 1.1182 - val_accuracy: 0.5049\n",
      "Epoch 26/200\n",
      "10/10 [==============================] - 0s 7ms/step - loss: 1.0676 - accuracy: 0.5351 - val_loss: 1.1186 - val_accuracy: 0.5049\n",
      "Epoch 27/200\n",
      "10/10 [==============================] - 0s 7ms/step - loss: 1.0668 - accuracy: 0.5643 - val_loss: 1.1136 - val_accuracy: 0.5146\n",
      "Epoch 28/200\n",
      "10/10 [==============================] - 0s 7ms/step - loss: 1.0612 - accuracy: 0.5535 - val_loss: 1.1188 - val_accuracy: 0.5146\n",
      "Epoch 29/200\n",
      "10/10 [==============================] - 0s 7ms/step - loss: 1.0598 - accuracy: 0.5595 - val_loss: 1.1113 - val_accuracy: 0.5194\n",
      "Epoch 30/200\n",
      "10/10 [==============================] - 0s 7ms/step - loss: 1.0554 - accuracy: 0.5605 - val_loss: 1.1141 - val_accuracy: 0.5097\n",
      "Epoch 31/200\n",
      "10/10 [==============================] - 0s 6ms/step - loss: 1.0545 - accuracy: 0.5541 - val_loss: 1.1107 - val_accuracy: 0.5194\n",
      "Epoch 32/200\n",
      "10/10 [==============================] - 0s 8ms/step - loss: 1.0530 - accuracy: 0.5692 - val_loss: 1.1099 - val_accuracy: 0.5194\n",
      "Epoch 33/200\n",
      "10/10 [==============================] - 0s 7ms/step - loss: 1.0524 - accuracy: 0.5589 - val_loss: 1.1097 - val_accuracy: 0.5146\n",
      "Epoch 34/200\n",
      "10/10 [==============================] - 0s 8ms/step - loss: 1.0520 - accuracy: 0.5659 - val_loss: 1.1066 - val_accuracy: 0.5194\n",
      "Epoch 35/200\n",
      "10/10 [==============================] - 0s 9ms/step - loss: 1.0487 - accuracy: 0.5649 - val_loss: 1.1064 - val_accuracy: 0.5243\n",
      "Epoch 36/200\n",
      "10/10 [==============================] - 0s 8ms/step - loss: 1.0479 - accuracy: 0.5638 - val_loss: 1.1066 - val_accuracy: 0.5291\n",
      "Epoch 37/200\n",
      "10/10 [==============================] - 0s 8ms/step - loss: 1.0467 - accuracy: 0.5681 - val_loss: 1.1046 - val_accuracy: 0.5291\n",
      "Epoch 38/200\n",
      "10/10 [==============================] - 0s 7ms/step - loss: 1.0459 - accuracy: 0.5605 - val_loss: 1.1063 - val_accuracy: 0.5194\n",
      "Epoch 39/200\n",
      "10/10 [==============================] - 0s 8ms/step - loss: 1.0446 - accuracy: 0.5649 - val_loss: 1.1030 - val_accuracy: 0.5291\n",
      "Epoch 40/200\n",
      "10/10 [==============================] - 0s 8ms/step - loss: 1.0443 - accuracy: 0.5649 - val_loss: 1.1026 - val_accuracy: 0.5340\n",
      "Epoch 41/200\n",
      "10/10 [==============================] - 0s 8ms/step - loss: 1.0433 - accuracy: 0.5708 - val_loss: 1.1010 - val_accuracy: 0.5340\n",
      "Epoch 42/200\n",
      "10/10 [==============================] - 0s 7ms/step - loss: 1.0421 - accuracy: 0.5703 - val_loss: 1.1029 - val_accuracy: 0.5291\n",
      "Epoch 43/200\n",
      "10/10 [==============================] - 0s 8ms/step - loss: 1.0413 - accuracy: 0.5659 - val_loss: 1.1000 - val_accuracy: 0.5485\n",
      "Epoch 44/200\n",
      "10/10 [==============================] - 0s 7ms/step - loss: 1.0404 - accuracy: 0.5730 - val_loss: 1.1008 - val_accuracy: 0.5485\n",
      "Epoch 45/200\n",
      "10/10 [==============================] - 0s 8ms/step - loss: 1.0396 - accuracy: 0.5654 - val_loss: 1.1007 - val_accuracy: 0.5437\n",
      "Epoch 46/200\n",
      "10/10 [==============================] - 0s 7ms/step - loss: 1.0410 - accuracy: 0.5784 - val_loss: 1.0984 - val_accuracy: 0.5340\n",
      "Epoch 47/200\n",
      "10/10 [==============================] - 0s 7ms/step - loss: 1.0379 - accuracy: 0.5681 - val_loss: 1.1019 - val_accuracy: 0.5388\n",
      "Epoch 48/200\n",
      "10/10 [==============================] - 0s 8ms/step - loss: 1.0375 - accuracy: 0.5692 - val_loss: 1.0973 - val_accuracy: 0.5437\n",
      "Epoch 49/200\n",
      "10/10 [==============================] - 0s 9ms/step - loss: 1.0363 - accuracy: 0.5735 - val_loss: 1.0993 - val_accuracy: 0.5340\n",
      "Epoch 50/200\n",
      "10/10 [==============================] - 0s 9ms/step - loss: 1.0364 - accuracy: 0.5676 - val_loss: 1.0964 - val_accuracy: 0.5340\n",
      "Epoch 51/200\n",
      "10/10 [==============================] - 0s 13ms/step - loss: 1.0369 - accuracy: 0.5746 - val_loss: 1.0956 - val_accuracy: 0.5485\n",
      "Epoch 52/200\n",
      "10/10 [==============================] - 0s 10ms/step - loss: 1.0371 - accuracy: 0.5600 - val_loss: 1.0988 - val_accuracy: 0.5340\n",
      "Epoch 53/200\n",
      "10/10 [==============================] - 0s 7ms/step - loss: 1.0348 - accuracy: 0.5730 - val_loss: 1.0938 - val_accuracy: 0.5340\n",
      "Epoch 54/200\n",
      "10/10 [==============================] - 0s 7ms/step - loss: 1.0339 - accuracy: 0.5730 - val_loss: 1.0970 - val_accuracy: 0.5340\n",
      "Epoch 55/200\n",
      "10/10 [==============================] - 0s 7ms/step - loss: 1.0330 - accuracy: 0.5692 - val_loss: 1.0941 - val_accuracy: 0.5388\n",
      "Epoch 56/200\n",
      "10/10 [==============================] - 0s 7ms/step - loss: 1.0322 - accuracy: 0.5751 - val_loss: 1.0944 - val_accuracy: 0.5485\n",
      "Epoch 57/200\n",
      "10/10 [==============================] - 0s 8ms/step - loss: 1.0317 - accuracy: 0.5768 - val_loss: 1.0936 - val_accuracy: 0.5534\n",
      "Epoch 58/200\n",
      "10/10 [==============================] - 0s 10ms/step - loss: 1.0315 - accuracy: 0.5746 - val_loss: 1.0954 - val_accuracy: 0.5388\n"
     ]
    }
   ],
   "source": [
    "history = model.fit(\n",
    "    x_train,y_train,\n",
    "    validation_data=(x_val,y_val),\n",
    "    epochs=200,\n",
    "    batch_size=200,\n",
    "    callbacks=early_stopping\n",
    ")"
   ]
  },
  {
   "cell_type": "code",
   "execution_count": 66,
   "metadata": {},
   "outputs": [
    {
     "name": "stdout",
     "output_type": "stream",
     "text": [
      "43/43 [==============================] - 0s 1ms/step\n"
     ]
    }
   ],
   "source": [
    "result = model.predict(x_test)"
   ]
  },
  {
   "cell_type": "code",
   "execution_count": 30,
   "metadata": {},
   "outputs": [
    {
     "data": {
      "text/plain": [
       "<AxesSubplot: ylabel='Count'>"
      ]
     },
     "execution_count": 30,
     "metadata": {},
     "output_type": "execute_result"
    },
    {
     "data": {
      "image/png": "[encoded data removed]",
      "text/plain": [
       "<Figure size 640x480 with 1 Axes>"
      ]
     },
     "metadata": {},
     "output_type": "display_data"
    }
   ],
   "source": [
    "sns.histplot(result)"
   ]
  },
  {
   "cell_type": "code",
   "execution_count": 67,
   "metadata": {},
   "outputs": [],
   "source": [
    "new_result = []\n",
    "for row in result:\n",
    "    new_result.append(list(row).index(max(row))+3)"
   ]
  },
  {
   "cell_type": "code",
   "execution_count": 68,
   "metadata": {},
   "outputs": [
    {
     "data": {
      "text/plain": [
       "<AxesSubplot: ylabel='Count'>"
      ]
     },
     "execution_count": 68,
     "metadata": {},
     "output_type": "execute_result"
    },
    {
     "data": {
      "image/png": "[encoded data removed]",
      "text/plain": [
       "<Figure size 640x480 with 1 Axes>"
      ]
     },
     "metadata": {},
     "output_type": "display_data"
    }
   ],
   "source": [
    "sns.histplot(new_result)"
   ]
  },
  {
   "cell_type": "code",
   "execution_count": 33,
   "metadata": {},
   "outputs": [],
   "source": [
    "df = pd.DataFrame({'Id':test_data['Id'].values, 'quality':new_result})\n",
    "df.to_csv('submission.csv', index=False)"
   ]
  }
 ],
 "metadata": {
  "kernelspec": {
   "display_name": "Python 3",
   "language": "python",
   "name": "python3"
  },
  "language_info": {
   "codemirror_mode": {
    "name": "ipython",
    "version": 3
   },
   "file_extension": ".py",
   "mimetype": "text/x-python",
   "name": "python",
   "nbconvert_exporter": "python",
   "pygments_lexer": "ipython3",
   "version": "3.10.9"
  },
  "orig_nbformat": 4,
  "vscode": {
   "interpreter": {
    "hash": "53d7f2fa65778ede7cd5f51f4cac3b3be75ffd0c3172768f628c81b4138d91cf"
   }
  }
 },
 "nbformat": 4,
 "nbformat_minor": 2
}
