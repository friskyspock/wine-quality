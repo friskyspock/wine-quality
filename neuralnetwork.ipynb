{
 "cells": [
  {
   "cell_type": "code",
   "execution_count": 1,
   "metadata": {},
   "outputs": [],
   "source": [
    "import seaborn as sns"
   ]
  },
  {
   "cell_type": "code",
   "execution_count": 2,
   "metadata": {},
   "outputs": [],
   "source": [
    "import pandas as pd\n",
    "\n",
    "train_data = pd.read_csv('train.csv')\n",
    "test_data = pd.read_csv('test.csv')"
   ]
  },
  {
   "cell_type": "code",
   "execution_count": 3,
   "metadata": {},
   "outputs": [
    {
     "data": {
      "text/html": [
       "<div>\n",
       "<style scoped>\n",
       "    .dataframe tbody tr th:only-of-type {\n",
       "        vertical-align: middle;\n",
       "    }\n",
       "\n",
       "    .dataframe tbody tr th {\n",
       "        vertical-align: top;\n",
       "    }\n",
       "\n",
       "    .dataframe thead th {\n",
       "        text-align: right;\n",
       "    }\n",
       "</style>\n",
       "<table border=\"1\" class=\"dataframe\">\n",
       "  <thead>\n",
       "    <tr style=\"text-align: right;\">\n",
       "      <th></th>\n",
       "      <th>Id</th>\n",
       "      <th>fixed acidity</th>\n",
       "      <th>volatile acidity</th>\n",
       "      <th>citric acid</th>\n",
       "      <th>residual sugar</th>\n",
       "      <th>chlorides</th>\n",
       "      <th>free sulfur dioxide</th>\n",
       "      <th>total sulfur dioxide</th>\n",
       "      <th>density</th>\n",
       "      <th>pH</th>\n",
       "      <th>sulphates</th>\n",
       "      <th>alcohol</th>\n",
       "      <th>quality</th>\n",
       "    </tr>\n",
       "  </thead>\n",
       "  <tbody>\n",
       "    <tr>\n",
       "      <th>0</th>\n",
       "      <td>0</td>\n",
       "      <td>8.0</td>\n",
       "      <td>0.50</td>\n",
       "      <td>0.39</td>\n",
       "      <td>2.2</td>\n",
       "      <td>0.073</td>\n",
       "      <td>30.0</td>\n",
       "      <td>39.0</td>\n",
       "      <td>0.99572</td>\n",
       "      <td>3.33</td>\n",
       "      <td>0.77</td>\n",
       "      <td>12.1</td>\n",
       "      <td>6</td>\n",
       "    </tr>\n",
       "    <tr>\n",
       "      <th>1</th>\n",
       "      <td>1</td>\n",
       "      <td>9.3</td>\n",
       "      <td>0.30</td>\n",
       "      <td>0.73</td>\n",
       "      <td>2.3</td>\n",
       "      <td>0.092</td>\n",
       "      <td>30.0</td>\n",
       "      <td>67.0</td>\n",
       "      <td>0.99854</td>\n",
       "      <td>3.32</td>\n",
       "      <td>0.67</td>\n",
       "      <td>12.8</td>\n",
       "      <td>6</td>\n",
       "    </tr>\n",
       "    <tr>\n",
       "      <th>2</th>\n",
       "      <td>2</td>\n",
       "      <td>7.1</td>\n",
       "      <td>0.51</td>\n",
       "      <td>0.03</td>\n",
       "      <td>2.1</td>\n",
       "      <td>0.059</td>\n",
       "      <td>3.0</td>\n",
       "      <td>12.0</td>\n",
       "      <td>0.99660</td>\n",
       "      <td>3.52</td>\n",
       "      <td>0.73</td>\n",
       "      <td>11.3</td>\n",
       "      <td>7</td>\n",
       "    </tr>\n",
       "    <tr>\n",
       "      <th>3</th>\n",
       "      <td>3</td>\n",
       "      <td>8.1</td>\n",
       "      <td>0.87</td>\n",
       "      <td>0.22</td>\n",
       "      <td>2.6</td>\n",
       "      <td>0.084</td>\n",
       "      <td>11.0</td>\n",
       "      <td>65.0</td>\n",
       "      <td>0.99730</td>\n",
       "      <td>3.20</td>\n",
       "      <td>0.53</td>\n",
       "      <td>9.8</td>\n",
       "      <td>5</td>\n",
       "    </tr>\n",
       "    <tr>\n",
       "      <th>4</th>\n",
       "      <td>4</td>\n",
       "      <td>8.5</td>\n",
       "      <td>0.36</td>\n",
       "      <td>0.30</td>\n",
       "      <td>2.3</td>\n",
       "      <td>0.079</td>\n",
       "      <td>10.0</td>\n",
       "      <td>45.0</td>\n",
       "      <td>0.99444</td>\n",
       "      <td>3.20</td>\n",
       "      <td>1.36</td>\n",
       "      <td>9.5</td>\n",
       "      <td>6</td>\n",
       "    </tr>\n",
       "  </tbody>\n",
       "</table>\n",
       "</div>"
      ],
      "text/plain": [
       "   Id  fixed acidity  volatile acidity  citric acid  residual sugar  \\\n",
       "0   0            8.0              0.50         0.39             2.2   \n",
       "1   1            9.3              0.30         0.73             2.3   \n",
       "2   2            7.1              0.51         0.03             2.1   \n",
       "3   3            8.1              0.87         0.22             2.6   \n",
       "4   4            8.5              0.36         0.30             2.3   \n",
       "\n",
       "   chlorides  free sulfur dioxide  total sulfur dioxide  density    pH  \\\n",
       "0      0.073                 30.0                  39.0  0.99572  3.33   \n",
       "1      0.092                 30.0                  67.0  0.99854  3.32   \n",
       "2      0.059                  3.0                  12.0  0.99660  3.52   \n",
       "3      0.084                 11.0                  65.0  0.99730  3.20   \n",
       "4      0.079                 10.0                  45.0  0.99444  3.20   \n",
       "\n",
       "   sulphates  alcohol  quality  \n",
       "0       0.77     12.1        6  \n",
       "1       0.67     12.8        6  \n",
       "2       0.73     11.3        7  \n",
       "3       0.53      9.8        5  \n",
       "4       1.36      9.5        6  "
      ]
     },
     "execution_count": 3,
     "metadata": {},
     "output_type": "execute_result"
    }
   ],
   "source": [
    "train_data.head()"
   ]
  },
  {
   "cell_type": "code",
   "execution_count": 4,
   "metadata": {},
   "outputs": [],
   "source": [
    "y = train_data['quality']\n",
    "x = train_data.drop(['quality','Id'], axis=1)\n",
    "x_test = test_data.drop('Id', axis=1)"
   ]
  },
  {
   "cell_type": "code",
   "execution_count": 5,
   "metadata": {},
   "outputs": [],
   "source": [
    "from sklearn.preprocessing import OneHotEncoder\n",
    "\n",
    "ohe = OneHotEncoder(sparse_output=False)\n",
    "y = pd.DataFrame(ohe.fit_transform(y.values.reshape(-1,1)))\n",
    "y.index = train_data.index"
   ]
  },
  {
   "cell_type": "code",
   "execution_count": 6,
   "metadata": {},
   "outputs": [
    {
     "data": {
      "text/plain": [
       "[array([3, 4, 5, 6, 7, 8], dtype=int64)]"
      ]
     },
     "execution_count": 6,
     "metadata": {},
     "output_type": "execute_result"
    }
   ],
   "source": [
    "ohe.categories_"
   ]
  },
  {
   "cell_type": "code",
   "execution_count": 7,
   "metadata": {},
   "outputs": [
    {
     "data": {
      "text/plain": [
       "(2056, 6)"
      ]
     },
     "execution_count": 7,
     "metadata": {},
     "output_type": "execute_result"
    }
   ],
   "source": [
    "y.shape"
   ]
  },
  {
   "cell_type": "code",
   "execution_count": 8,
   "metadata": {},
   "outputs": [],
   "source": [
    "from sklearn.preprocessing import MinMaxScaler\n",
    "\n",
    "scaler = MinMaxScaler()\n",
    "x = pd.DataFrame(scaler.fit_transform(x), columns=x.columns)\n",
    "x_test = pd.DataFrame(scaler.transform(x_test), columns=x_test.columns)"
   ]
  },
  {
   "cell_type": "code",
   "execution_count": 9,
   "metadata": {},
   "outputs": [],
   "source": [
    "from sklearn.model_selection import train_test_split\n",
    "\n",
    "x_train, x_val, y_train, y_val = train_test_split(x,y,test_size=0.1,random_state=42)"
   ]
  },
  {
   "cell_type": "code",
   "execution_count": 10,
   "metadata": {},
   "outputs": [],
   "source": [
    "from tensorflow import keras\n",
    "from tensorflow.keras import layers\n",
    "\n",
    "model = keras.Sequential([\n",
    "    layers.Dense(units=11, activation='relu', input_shape=[11]),\n",
    "    layers.Dense(units=66, activation='relu'),\n",
    "    layers.Dense(units=6, activation='softmax')\n",
    "])"
   ]
  },
  {
   "cell_type": "code",
   "execution_count": 11,
   "metadata": {},
   "outputs": [],
   "source": [
    "model.compile(optimizer='Adam', loss=\"categorical_crossentropy\", metrics=[\"accuracy\"])"
   ]
  },
  {
   "cell_type": "code",
   "execution_count": 12,
   "metadata": {},
   "outputs": [],
   "source": [
    "early_stopping = keras.callbacks.EarlyStopping(patience=5, min_delta=0.001, restore_best_weights=True)"
   ]
  },
  {
   "cell_type": "code",
   "execution_count": 13,
   "metadata": {},
   "outputs": [
    {
     "name": "stdout",
     "output_type": "stream",
     "text": [
      "Epoch 1/200\n",
      "10/10 [==============================] - 2s 57ms/step - loss: 1.7952 - accuracy: 0.2243 - val_loss: 1.7485 - val_accuracy: 0.3786\n",
      "Epoch 2/200\n",
      "10/10 [==============================] - 0s 8ms/step - loss: 1.7144 - accuracy: 0.4054 - val_loss: 1.6699 - val_accuracy: 0.4029\n",
      "Epoch 3/200\n",
      "10/10 [==============================] - 0s 8ms/step - loss: 1.6309 - accuracy: 0.4086 - val_loss: 1.5872 - val_accuracy: 0.4029\n",
      "Epoch 4/200\n",
      "10/10 [==============================] - 0s 9ms/step - loss: 1.5416 - accuracy: 0.4086 - val_loss: 1.4984 - val_accuracy: 0.4029\n",
      "Epoch 5/200\n",
      "10/10 [==============================] - 0s 8ms/step - loss: 1.4484 - accuracy: 0.4086 - val_loss: 1.4071 - val_accuracy: 0.4029\n",
      "Epoch 6/200\n",
      "10/10 [==============================] - 0s 8ms/step - loss: 1.3555 - accuracy: 0.4135 - val_loss: 1.3237 - val_accuracy: 0.4126\n",
      "Epoch 7/200\n",
      "10/10 [==============================] - 0s 8ms/step - loss: 1.2779 - accuracy: 0.4297 - val_loss: 1.2640 - val_accuracy: 0.4272\n",
      "Epoch 8/200\n",
      "10/10 [==============================] - 0s 9ms/step - loss: 1.2256 - accuracy: 0.4708 - val_loss: 1.2292 - val_accuracy: 0.4806\n",
      "Epoch 9/200\n",
      "10/10 [==============================] - 0s 9ms/step - loss: 1.1966 - accuracy: 0.5103 - val_loss: 1.2084 - val_accuracy: 0.5000\n",
      "Epoch 10/200\n",
      "10/10 [==============================] - 0s 8ms/step - loss: 1.1786 - accuracy: 0.5135 - val_loss: 1.1970 - val_accuracy: 0.5097\n",
      "Epoch 11/200\n",
      "10/10 [==============================] - 0s 8ms/step - loss: 1.1667 - accuracy: 0.5070 - val_loss: 1.1903 - val_accuracy: 0.4757\n",
      "Epoch 12/200\n",
      "10/10 [==============================] - 0s 9ms/step - loss: 1.1562 - accuracy: 0.5146 - val_loss: 1.1809 - val_accuracy: 0.5146\n",
      "Epoch 13/200\n",
      "10/10 [==============================] - 0s 9ms/step - loss: 1.1466 - accuracy: 0.5211 - val_loss: 1.1755 - val_accuracy: 0.5146\n",
      "Epoch 14/200\n",
      "10/10 [==============================] - 0s 9ms/step - loss: 1.1378 - accuracy: 0.5249 - val_loss: 1.1692 - val_accuracy: 0.5194\n",
      "Epoch 15/200\n",
      "10/10 [==============================] - 0s 8ms/step - loss: 1.1306 - accuracy: 0.5330 - val_loss: 1.1646 - val_accuracy: 0.5049\n",
      "Epoch 16/200\n",
      "10/10 [==============================] - 0s 8ms/step - loss: 1.1239 - accuracy: 0.5319 - val_loss: 1.1626 - val_accuracy: 0.5194\n",
      "Epoch 17/200\n",
      "10/10 [==============================] - 0s 8ms/step - loss: 1.1177 - accuracy: 0.5297 - val_loss: 1.1573 - val_accuracy: 0.5194\n",
      "Epoch 18/200\n",
      "10/10 [==============================] - 0s 8ms/step - loss: 1.1114 - accuracy: 0.5389 - val_loss: 1.1526 - val_accuracy: 0.5146\n",
      "Epoch 19/200\n",
      "10/10 [==============================] - 0s 8ms/step - loss: 1.1070 - accuracy: 0.5389 - val_loss: 1.1498 - val_accuracy: 0.5194\n",
      "Epoch 20/200\n",
      "10/10 [==============================] - 0s 13ms/step - loss: 1.1021 - accuracy: 0.5400 - val_loss: 1.1466 - val_accuracy: 0.5243\n",
      "Epoch 21/200\n",
      "10/10 [==============================] - 0s 9ms/step - loss: 1.0982 - accuracy: 0.5400 - val_loss: 1.1454 - val_accuracy: 0.5146\n",
      "Epoch 22/200\n",
      "10/10 [==============================] - 0s 13ms/step - loss: 1.0935 - accuracy: 0.5427 - val_loss: 1.1409 - val_accuracy: 0.5049\n",
      "Epoch 23/200\n",
      "10/10 [==============================] - 0s 14ms/step - loss: 1.0909 - accuracy: 0.5481 - val_loss: 1.1396 - val_accuracy: 0.5097\n",
      "Epoch 24/200\n",
      "10/10 [==============================] - 0s 12ms/step - loss: 1.0885 - accuracy: 0.5481 - val_loss: 1.1367 - val_accuracy: 0.5097\n",
      "Epoch 25/200\n",
      "10/10 [==============================] - 0s 10ms/step - loss: 1.0855 - accuracy: 0.5459 - val_loss: 1.1375 - val_accuracy: 0.5146\n",
      "Epoch 26/200\n",
      "10/10 [==============================] - 0s 10ms/step - loss: 1.0832 - accuracy: 0.5514 - val_loss: 1.1318 - val_accuracy: 0.5194\n",
      "Epoch 27/200\n",
      "10/10 [==============================] - 0s 10ms/step - loss: 1.0807 - accuracy: 0.5524 - val_loss: 1.1331 - val_accuracy: 0.5146\n",
      "Epoch 28/200\n",
      "10/10 [==============================] - 0s 15ms/step - loss: 1.0775 - accuracy: 0.5470 - val_loss: 1.1288 - val_accuracy: 0.5097\n",
      "Epoch 29/200\n",
      "10/10 [==============================] - 0s 18ms/step - loss: 1.0754 - accuracy: 0.5541 - val_loss: 1.1272 - val_accuracy: 0.5049\n",
      "Epoch 30/200\n",
      "10/10 [==============================] - 0s 15ms/step - loss: 1.0731 - accuracy: 0.5557 - val_loss: 1.1251 - val_accuracy: 0.5049\n",
      "Epoch 31/200\n",
      "10/10 [==============================] - 0s 12ms/step - loss: 1.0716 - accuracy: 0.5546 - val_loss: 1.1233 - val_accuracy: 0.5194\n",
      "Epoch 32/200\n",
      "10/10 [==============================] - 0s 9ms/step - loss: 1.0686 - accuracy: 0.5557 - val_loss: 1.1228 - val_accuracy: 0.5097\n",
      "Epoch 33/200\n",
      "10/10 [==============================] - 0s 9ms/step - loss: 1.0673 - accuracy: 0.5573 - val_loss: 1.1208 - val_accuracy: 0.5097\n",
      "Epoch 34/200\n",
      "10/10 [==============================] - 0s 13ms/step - loss: 1.0663 - accuracy: 0.5573 - val_loss: 1.1169 - val_accuracy: 0.5146\n",
      "Epoch 35/200\n",
      "10/10 [==============================] - 0s 28ms/step - loss: 1.0630 - accuracy: 0.5584 - val_loss: 1.1165 - val_accuracy: 0.5049\n",
      "Epoch 36/200\n",
      "10/10 [==============================] - 0s 9ms/step - loss: 1.0622 - accuracy: 0.5551 - val_loss: 1.1137 - val_accuracy: 0.5146\n",
      "Epoch 37/200\n",
      "10/10 [==============================] - 0s 9ms/step - loss: 1.0601 - accuracy: 0.5589 - val_loss: 1.1122 - val_accuracy: 0.5146\n",
      "Epoch 38/200\n",
      "10/10 [==============================] - 0s 9ms/step - loss: 1.0594 - accuracy: 0.5638 - val_loss: 1.1108 - val_accuracy: 0.5146\n",
      "Epoch 39/200\n",
      "10/10 [==============================] - 0s 9ms/step - loss: 1.0608 - accuracy: 0.5546 - val_loss: 1.1126 - val_accuracy: 0.5097\n",
      "Epoch 40/200\n",
      "10/10 [==============================] - 0s 9ms/step - loss: 1.0576 - accuracy: 0.5714 - val_loss: 1.1077 - val_accuracy: 0.5340\n",
      "Epoch 41/200\n",
      "10/10 [==============================] - 0s 8ms/step - loss: 1.0550 - accuracy: 0.5649 - val_loss: 1.1084 - val_accuracy: 0.5097\n",
      "Epoch 42/200\n",
      "10/10 [==============================] - 0s 15ms/step - loss: 1.0537 - accuracy: 0.5600 - val_loss: 1.1055 - val_accuracy: 0.5146\n",
      "Epoch 43/200\n",
      "10/10 [==============================] - 0s 9ms/step - loss: 1.0513 - accuracy: 0.5638 - val_loss: 1.1033 - val_accuracy: 0.5194\n",
      "Epoch 44/200\n",
      "10/10 [==============================] - 0s 9ms/step - loss: 1.0501 - accuracy: 0.5676 - val_loss: 1.1037 - val_accuracy: 0.5146\n",
      "Epoch 45/200\n",
      "10/10 [==============================] - 0s 10ms/step - loss: 1.0487 - accuracy: 0.5643 - val_loss: 1.1018 - val_accuracy: 0.5194\n",
      "Epoch 46/200\n",
      "10/10 [==============================] - 0s 10ms/step - loss: 1.0481 - accuracy: 0.5654 - val_loss: 1.1010 - val_accuracy: 0.5194\n",
      "Epoch 47/200\n",
      "10/10 [==============================] - 0s 9ms/step - loss: 1.0464 - accuracy: 0.5622 - val_loss: 1.0998 - val_accuracy: 0.5194\n",
      "Epoch 48/200\n",
      "10/10 [==============================] - 0s 10ms/step - loss: 1.0458 - accuracy: 0.5627 - val_loss: 1.0980 - val_accuracy: 0.5243\n",
      "Epoch 49/200\n",
      "10/10 [==============================] - 0s 9ms/step - loss: 1.0446 - accuracy: 0.5649 - val_loss: 1.0982 - val_accuracy: 0.5194\n",
      "Epoch 50/200\n",
      "10/10 [==============================] - 0s 9ms/step - loss: 1.0455 - accuracy: 0.5605 - val_loss: 1.0985 - val_accuracy: 0.5243\n",
      "Epoch 51/200\n",
      "10/10 [==============================] - 0s 8ms/step - loss: 1.0442 - accuracy: 0.5714 - val_loss: 1.0948 - val_accuracy: 0.5291\n",
      "Epoch 52/200\n",
      "10/10 [==============================] - 0s 9ms/step - loss: 1.0423 - accuracy: 0.5659 - val_loss: 1.0962 - val_accuracy: 0.5291\n",
      "Epoch 53/200\n",
      "10/10 [==============================] - 0s 9ms/step - loss: 1.0408 - accuracy: 0.5708 - val_loss: 1.0930 - val_accuracy: 0.5340\n",
      "Epoch 54/200\n",
      "10/10 [==============================] - 0s 9ms/step - loss: 1.0400 - accuracy: 0.5654 - val_loss: 1.0933 - val_accuracy: 0.5243\n",
      "Epoch 55/200\n",
      "10/10 [==============================] - 0s 8ms/step - loss: 1.0389 - accuracy: 0.5686 - val_loss: 1.0913 - val_accuracy: 0.5291\n",
      "Epoch 56/200\n",
      "10/10 [==============================] - 0s 8ms/step - loss: 1.0384 - accuracy: 0.5692 - val_loss: 1.0920 - val_accuracy: 0.5243\n",
      "Epoch 57/200\n",
      "10/10 [==============================] - 0s 8ms/step - loss: 1.0371 - accuracy: 0.5692 - val_loss: 1.0909 - val_accuracy: 0.5340\n",
      "Epoch 58/200\n",
      "10/10 [==============================] - 0s 8ms/step - loss: 1.0364 - accuracy: 0.5719 - val_loss: 1.0905 - val_accuracy: 0.5388\n",
      "Epoch 59/200\n",
      "10/10 [==============================] - 0s 9ms/step - loss: 1.0357 - accuracy: 0.5751 - val_loss: 1.0894 - val_accuracy: 0.5340\n",
      "Epoch 60/200\n",
      "10/10 [==============================] - 0s 11ms/step - loss: 1.0355 - accuracy: 0.5757 - val_loss: 1.0887 - val_accuracy: 0.5340\n",
      "Epoch 61/200\n",
      "10/10 [==============================] - 0s 8ms/step - loss: 1.0340 - accuracy: 0.5746 - val_loss: 1.0895 - val_accuracy: 0.5291\n",
      "Epoch 62/200\n",
      "10/10 [==============================] - 0s 8ms/step - loss: 1.0334 - accuracy: 0.5686 - val_loss: 1.0889 - val_accuracy: 0.5291\n",
      "Epoch 63/200\n",
      "10/10 [==============================] - 0s 8ms/step - loss: 1.0328 - accuracy: 0.5757 - val_loss: 1.0868 - val_accuracy: 0.5291\n",
      "Epoch 64/200\n",
      "10/10 [==============================] - 0s 9ms/step - loss: 1.0322 - accuracy: 0.5719 - val_loss: 1.0874 - val_accuracy: 0.5291\n",
      "Epoch 65/200\n",
      "10/10 [==============================] - 0s 8ms/step - loss: 1.0321 - accuracy: 0.5805 - val_loss: 1.0875 - val_accuracy: 0.5291\n",
      "Epoch 66/200\n",
      "10/10 [==============================] - 0s 8ms/step - loss: 1.0315 - accuracy: 0.5692 - val_loss: 1.0875 - val_accuracy: 0.5194\n",
      "Epoch 67/200\n",
      "10/10 [==============================] - 0s 8ms/step - loss: 1.0297 - accuracy: 0.5719 - val_loss: 1.0860 - val_accuracy: 0.5291\n",
      "Epoch 68/200\n",
      "10/10 [==============================] - 0s 17ms/step - loss: 1.0298 - accuracy: 0.5784 - val_loss: 1.0858 - val_accuracy: 0.5243\n"
     ]
    }
   ],
   "source": [
    "history = model.fit(\n",
    "    x_train,y_train,\n",
    "    validation_data=(x_val,y_val),\n",
    "    epochs=200,\n",
    "    batch_size=200,\n",
    "    callbacks=early_stopping\n",
    ")"
   ]
  },
  {
   "cell_type": "code",
   "execution_count": 14,
   "metadata": {},
   "outputs": [
    {
     "name": "stdout",
     "output_type": "stream",
     "text": [
      "43/43 [==============================] - 0s 2ms/step\n"
     ]
    }
   ],
   "source": [
    "result = model.predict(x_test)"
   ]
  },
  {
   "cell_type": "code",
   "execution_count": 19,
   "metadata": {},
   "outputs": [
    {
     "data": {
      "text/plain": [
       "array([[0.00761265, 0.04026121, 0.58477926, 0.30089667, 0.05999457,\n",
       "        0.00645561],\n",
       "       [0.00913853, 0.03140809, 0.47795966, 0.38626504, 0.08327812,\n",
       "        0.01195051],\n",
       "       [0.00927054, 0.03761156, 0.5159408 , 0.36301884, 0.0650665 ,\n",
       "        0.00909177],\n",
       "       ...,\n",
       "       [0.00605969, 0.03953737, 0.77206254, 0.15605575, 0.02333213,\n",
       "        0.00295242],\n",
       "       [0.00454948, 0.02666839, 0.7601302 , 0.18455113, 0.02174917,\n",
       "        0.00235158],\n",
       "       [0.006469  , 0.03101171, 0.5996532 , 0.30620348, 0.05085279,\n",
       "        0.00580983]], dtype=float32)"
      ]
     },
     "execution_count": 19,
     "metadata": {},
     "output_type": "execute_result"
    }
   ],
   "source": [
    "result"
   ]
  },
  {
   "cell_type": "code",
   "execution_count": 15,
   "metadata": {},
   "outputs": [
    {
     "data": {
      "text/plain": [
       "<AxesSubplot: ylabel='Count'>"
      ]
     },
     "execution_count": 15,
     "metadata": {},
     "output_type": "execute_result"
    },
    {
     "data": {
      "image/png": "[encoded data removed]",
      "text/plain": [
       "<Figure size 640x480 with 1 Axes>"
      ]
     },
     "metadata": {},
     "output_type": "display_data"
    }
   ],
   "source": [
    "sns.histplot(result)"
   ]
  },
  {
   "cell_type": "code",
   "execution_count": 16,
   "metadata": {},
   "outputs": [],
   "source": [
    "new_result = []\n",
    "for row in result:\n",
    "    new_result.append(list(row).index(max(row))+3)"
   ]
  },
  {
   "cell_type": "code",
   "execution_count": 17,
   "metadata": {},
   "outputs": [
    {
     "data": {
      "text/plain": [
       "<AxesSubplot: ylabel='Count'>"
      ]
     },
     "execution_count": 17,
     "metadata": {},
     "output_type": "execute_result"
    },
    {
     "data": {
      "image/png": "[encoded data removed]",
      "text/plain": [
       "<Figure size 640x480 with 1 Axes>"
      ]
     },
     "metadata": {},
     "output_type": "display_data"
    }
   ],
   "source": [
    "sns.histplot(new_result)"
   ]
  },
  {
   "cell_type": "code",
   "execution_count": 18,
   "metadata": {},
   "outputs": [],
   "source": [
    "df = pd.DataFrame({'Id':test_data['Id'].values, 'quality':new_result})\n",
    "df.to_csv('submission.csv', index=False)"
   ]
  }
 ],
 "metadata": {
  "kernelspec": {
   "display_name": "Python 3",
   "language": "python",
   "name": "python3"
  },
  "language_info": {
   "codemirror_mode": {
    "name": "ipython",
    "version": 3
   },
   "file_extension": ".py",
   "mimetype": "text/x-python",
   "name": "python",
   "nbconvert_exporter": "python",
   "pygments_lexer": "ipython3",
   "version": "3.10.9"
  },
  "orig_nbformat": 4,
  "vscode": {
   "interpreter": {
    "hash": "53d7f2fa65778ede7cd5f51f4cac3b3be75ffd0c3172768f628c81b4138d91cf"
   }
  }
 },
 "nbformat": 4,
 "nbformat_minor": 2
}
