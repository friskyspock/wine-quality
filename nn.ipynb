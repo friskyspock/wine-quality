{
 "cells": [
  {
   "cell_type": "code",
   "execution_count": 40,
   "metadata": {},
   "outputs": [],
   "source": [
    "import seaborn as sns"
   ]
  },
  {
   "cell_type": "code",
   "execution_count": 41,
   "metadata": {},
   "outputs": [],
   "source": [
    "import pandas as pd\n",
    "\n",
    "train_data = pd.read_csv('train.csv')\n",
    "test_data = pd.read_csv('test.csv')"
   ]
  },
  {
   "cell_type": "code",
   "execution_count": 42,
   "metadata": {},
   "outputs": [
    {
     "data": {
      "text/html": [
       "<div>\n",
       "<style scoped>\n",
       "    .dataframe tbody tr th:only-of-type {\n",
       "        vertical-align: middle;\n",
       "    }\n",
       "\n",
       "    .dataframe tbody tr th {\n",
       "        vertical-align: top;\n",
       "    }\n",
       "\n",
       "    .dataframe thead th {\n",
       "        text-align: right;\n",
       "    }\n",
       "</style>\n",
       "<table border=\"1\" class=\"dataframe\">\n",
       "  <thead>\n",
       "    <tr style=\"text-align: right;\">\n",
       "      <th></th>\n",
       "      <th>Id</th>\n",
       "      <th>fixed acidity</th>\n",
       "      <th>volatile acidity</th>\n",
       "      <th>citric acid</th>\n",
       "      <th>residual sugar</th>\n",
       "      <th>chlorides</th>\n",
       "      <th>free sulfur dioxide</th>\n",
       "      <th>total sulfur dioxide</th>\n",
       "      <th>density</th>\n",
       "      <th>pH</th>\n",
       "      <th>sulphates</th>\n",
       "      <th>alcohol</th>\n",
       "      <th>quality</th>\n",
       "    </tr>\n",
       "  </thead>\n",
       "  <tbody>\n",
       "    <tr>\n",
       "      <th>0</th>\n",
       "      <td>0</td>\n",
       "      <td>8.0</td>\n",
       "      <td>0.50</td>\n",
       "      <td>0.39</td>\n",
       "      <td>2.2</td>\n",
       "      <td>0.073</td>\n",
       "      <td>30.0</td>\n",
       "      <td>39.0</td>\n",
       "      <td>0.99572</td>\n",
       "      <td>3.33</td>\n",
       "      <td>0.77</td>\n",
       "      <td>12.1</td>\n",
       "      <td>6</td>\n",
       "    </tr>\n",
       "    <tr>\n",
       "      <th>1</th>\n",
       "      <td>1</td>\n",
       "      <td>9.3</td>\n",
       "      <td>0.30</td>\n",
       "      <td>0.73</td>\n",
       "      <td>2.3</td>\n",
       "      <td>0.092</td>\n",
       "      <td>30.0</td>\n",
       "      <td>67.0</td>\n",
       "      <td>0.99854</td>\n",
       "      <td>3.32</td>\n",
       "      <td>0.67</td>\n",
       "      <td>12.8</td>\n",
       "      <td>6</td>\n",
       "    </tr>\n",
       "    <tr>\n",
       "      <th>2</th>\n",
       "      <td>2</td>\n",
       "      <td>7.1</td>\n",
       "      <td>0.51</td>\n",
       "      <td>0.03</td>\n",
       "      <td>2.1</td>\n",
       "      <td>0.059</td>\n",
       "      <td>3.0</td>\n",
       "      <td>12.0</td>\n",
       "      <td>0.99660</td>\n",
       "      <td>3.52</td>\n",
       "      <td>0.73</td>\n",
       "      <td>11.3</td>\n",
       "      <td>7</td>\n",
       "    </tr>\n",
       "    <tr>\n",
       "      <th>3</th>\n",
       "      <td>3</td>\n",
       "      <td>8.1</td>\n",
       "      <td>0.87</td>\n",
       "      <td>0.22</td>\n",
       "      <td>2.6</td>\n",
       "      <td>0.084</td>\n",
       "      <td>11.0</td>\n",
       "      <td>65.0</td>\n",
       "      <td>0.99730</td>\n",
       "      <td>3.20</td>\n",
       "      <td>0.53</td>\n",
       "      <td>9.8</td>\n",
       "      <td>5</td>\n",
       "    </tr>\n",
       "    <tr>\n",
       "      <th>4</th>\n",
       "      <td>4</td>\n",
       "      <td>8.5</td>\n",
       "      <td>0.36</td>\n",
       "      <td>0.30</td>\n",
       "      <td>2.3</td>\n",
       "      <td>0.079</td>\n",
       "      <td>10.0</td>\n",
       "      <td>45.0</td>\n",
       "      <td>0.99444</td>\n",
       "      <td>3.20</td>\n",
       "      <td>1.36</td>\n",
       "      <td>9.5</td>\n",
       "      <td>6</td>\n",
       "    </tr>\n",
       "  </tbody>\n",
       "</table>\n",
       "</div>"
      ],
      "text/plain": [
       "   Id  fixed acidity  volatile acidity  citric acid  residual sugar  \\\n",
       "0   0            8.0              0.50         0.39             2.2   \n",
       "1   1            9.3              0.30         0.73             2.3   \n",
       "2   2            7.1              0.51         0.03             2.1   \n",
       "3   3            8.1              0.87         0.22             2.6   \n",
       "4   4            8.5              0.36         0.30             2.3   \n",
       "\n",
       "   chlorides  free sulfur dioxide  total sulfur dioxide  density    pH  \\\n",
       "0      0.073                 30.0                  39.0  0.99572  3.33   \n",
       "1      0.092                 30.0                  67.0  0.99854  3.32   \n",
       "2      0.059                  3.0                  12.0  0.99660  3.52   \n",
       "3      0.084                 11.0                  65.0  0.99730  3.20   \n",
       "4      0.079                 10.0                  45.0  0.99444  3.20   \n",
       "\n",
       "   sulphates  alcohol  quality  \n",
       "0       0.77     12.1        6  \n",
       "1       0.67     12.8        6  \n",
       "2       0.73     11.3        7  \n",
       "3       0.53      9.8        5  \n",
       "4       1.36      9.5        6  "
      ]
     },
     "execution_count": 42,
     "metadata": {},
     "output_type": "execute_result"
    }
   ],
   "source": [
    "train_data.head()"
   ]
  },
  {
   "cell_type": "code",
   "execution_count": 43,
   "metadata": {},
   "outputs": [],
   "source": [
    "y = train_data['quality']\n",
    "x = train_data.drop(['quality','Id'], axis=1)\n",
    "x_test = test_data.drop('Id', axis=1)"
   ]
  },
  {
   "cell_type": "code",
   "execution_count": 57,
   "metadata": {},
   "outputs": [
    {
     "data": {
      "text/plain": [
       "<AxesSubplot: xlabel='fixed acidity', ylabel='Count'>"
      ]
     },
     "execution_count": 57,
     "metadata": {},
     "output_type": "execute_result"
    },
    {
     "data": {
      "image/png": "[encoded data removed]",
      "text/plain": [
       "<Figure size 640x480 with 1 Axes>"
      ]
     },
     "metadata": {},
     "output_type": "display_data"
    }
   ],
   "source": [
    "sns.histplot(x['fixed acidity'])"
   ]
  },
  {
   "cell_type": "code",
   "execution_count": 44,
   "metadata": {},
   "outputs": [
    {
     "data": {
      "text/plain": [
       "<AxesSubplot: xlabel='quality', ylabel='Count'>"
      ]
     },
     "execution_count": 44,
     "metadata": {},
     "output_type": "execute_result"
    },
    {
     "data": {
      "image/png": "[encoded data removed]",
      "text/plain": [
       "<Figure size 640x480 with 1 Axes>"
      ]
     },
     "metadata": {},
     "output_type": "display_data"
    }
   ],
   "source": [
    "sns.histplot(y)"
   ]
  },
  {
   "cell_type": "code",
   "execution_count": 45,
   "metadata": {},
   "outputs": [],
   "source": [
    "from sklearn.preprocessing import MinMaxScaler\n",
    "\n",
    "scaler = MinMaxScaler()\n",
    "x = pd.DataFrame(scaler.fit_transform(x), columns=x.columns)\n",
    "x_test = pd.DataFrame(scaler.transform(x_test), columns=x_test.columns)"
   ]
  },
  {
   "cell_type": "code",
   "execution_count": 46,
   "metadata": {},
   "outputs": [],
   "source": [
    "from sklearn.model_selection import train_test_split\n",
    "\n",
    "x_train, x_val, y_train, y_val = train_test_split(x,y,test_size=0.1,random_state=42)"
   ]
  },
  {
   "cell_type": "code",
   "execution_count": 47,
   "metadata": {},
   "outputs": [],
   "source": [
    "from tensorflow import keras\n",
    "from tensorflow.keras import layers\n",
    "\n",
    "model = keras.Sequential([\n",
    "    layers.Dense(units=66, activation='relu',input_shape=[11]),\n",
    "    layers.Dense(units=6, activation='relu'),\n",
    "    layers.Dense(units=1)\n",
    "])"
   ]
  },
  {
   "cell_type": "code",
   "execution_count": 48,
   "metadata": {},
   "outputs": [],
   "source": [
    "model.compile(optimizer='Adam', loss=\"mean_absolute_error\")"
   ]
  },
  {
   "cell_type": "code",
   "execution_count": 49,
   "metadata": {},
   "outputs": [],
   "source": [
    "early_stopping = keras.callbacks.EarlyStopping(patience=5, min_delta=0.001, restore_best_weights=True)"
   ]
  },
  {
   "cell_type": "code",
   "execution_count": 50,
   "metadata": {},
   "outputs": [
    {
     "name": "stdout",
     "output_type": "stream",
     "text": [
      "Epoch 1/100\n",
      "10/10 [==============================] - 1s 32ms/step - loss: 5.5962 - sparse_categorical_accuracy: 0.0000e+00 - val_loss: 5.5215 - val_sparse_categorical_accuracy: 0.0000e+00\n",
      "Epoch 2/100\n",
      "10/10 [==============================] - 0s 9ms/step - loss: 5.4398 - sparse_categorical_accuracy: 0.0000e+00 - val_loss: 5.3668 - val_sparse_categorical_accuracy: 0.0000e+00\n",
      "Epoch 3/100\n",
      "10/10 [==============================] - 0s 8ms/step - loss: 5.2786 - sparse_categorical_accuracy: 0.0000e+00 - val_loss: 5.1965 - val_sparse_categorical_accuracy: 0.0000e+00\n",
      "Epoch 4/100\n",
      "10/10 [==============================] - 0s 9ms/step - loss: 5.0958 - sparse_categorical_accuracy: 0.0000e+00 - val_loss: 4.9963 - val_sparse_categorical_accuracy: 0.0000e+00\n",
      "Epoch 5/100\n",
      "10/10 [==============================] - 0s 8ms/step - loss: 4.8755 - sparse_categorical_accuracy: 0.0000e+00 - val_loss: 4.7506 - val_sparse_categorical_accuracy: 0.0000e+00\n",
      "Epoch 6/100\n",
      "10/10 [==============================] - 0s 15ms/step - loss: 4.6026 - sparse_categorical_accuracy: 0.0000e+00 - val_loss: 4.4421 - val_sparse_categorical_accuracy: 0.0000e+00\n",
      "Epoch 7/100\n",
      "10/10 [==============================] - 0s 6ms/step - loss: 4.2574 - sparse_categorical_accuracy: 0.0000e+00 - val_loss: 4.0507 - val_sparse_categorical_accuracy: 0.0000e+00\n",
      "Epoch 8/100\n",
      "10/10 [==============================] - 0s 8ms/step - loss: 3.8210 - sparse_categorical_accuracy: 0.0000e+00 - val_loss: 3.5583 - val_sparse_categorical_accuracy: 0.0000e+00\n",
      "Epoch 9/100\n",
      "10/10 [==============================] - 0s 7ms/step - loss: 3.2752 - sparse_categorical_accuracy: 0.0000e+00 - val_loss: 2.9497 - val_sparse_categorical_accuracy: 0.0000e+00\n",
      "Epoch 10/100\n",
      "10/10 [==============================] - 0s 8ms/step - loss: 2.6064 - sparse_categorical_accuracy: 0.0000e+00 - val_loss: 2.2079 - val_sparse_categorical_accuracy: 0.0000e+00\n",
      "Epoch 11/100\n",
      "10/10 [==============================] - 0s 7ms/step - loss: 1.8140 - sparse_categorical_accuracy: 0.0000e+00 - val_loss: 1.3591 - val_sparse_categorical_accuracy: 0.0000e+00\n",
      "Epoch 12/100\n",
      "10/10 [==============================] - 0s 8ms/step - loss: 1.0223 - sparse_categorical_accuracy: 0.0000e+00 - val_loss: 0.7568 - val_sparse_categorical_accuracy: 0.0000e+00\n",
      "Epoch 13/100\n",
      "10/10 [==============================] - 0s 8ms/step - loss: 0.7495 - sparse_categorical_accuracy: 0.0000e+00 - val_loss: 0.7541 - val_sparse_categorical_accuracy: 0.0000e+00\n",
      "Epoch 14/100\n",
      "10/10 [==============================] - 0s 8ms/step - loss: 0.7677 - sparse_categorical_accuracy: 0.0000e+00 - val_loss: 0.7376 - val_sparse_categorical_accuracy: 0.0000e+00\n",
      "Epoch 15/100\n",
      "10/10 [==============================] - 0s 10ms/step - loss: 0.7391 - sparse_categorical_accuracy: 0.0000e+00 - val_loss: 0.7111 - val_sparse_categorical_accuracy: 0.0000e+00\n",
      "Epoch 16/100\n",
      "10/10 [==============================] - 0s 9ms/step - loss: 0.7214 - sparse_categorical_accuracy: 0.0000e+00 - val_loss: 0.7066 - val_sparse_categorical_accuracy: 0.0000e+00\n",
      "Epoch 17/100\n",
      "10/10 [==============================] - 0s 9ms/step - loss: 0.7151 - sparse_categorical_accuracy: 0.0000e+00 - val_loss: 0.6995 - val_sparse_categorical_accuracy: 0.0000e+00\n",
      "Epoch 18/100\n",
      "10/10 [==============================] - 0s 11ms/step - loss: 0.7078 - sparse_categorical_accuracy: 0.0000e+00 - val_loss: 0.6934 - val_sparse_categorical_accuracy: 0.0000e+00\n",
      "Epoch 19/100\n",
      "10/10 [==============================] - 0s 8ms/step - loss: 0.7017 - sparse_categorical_accuracy: 0.0000e+00 - val_loss: 0.6878 - val_sparse_categorical_accuracy: 0.0000e+00\n",
      "Epoch 20/100\n",
      "10/10 [==============================] - 0s 7ms/step - loss: 0.6955 - sparse_categorical_accuracy: 0.0000e+00 - val_loss: 0.6828 - val_sparse_categorical_accuracy: 0.0000e+00\n",
      "Epoch 21/100\n",
      "10/10 [==============================] - 0s 8ms/step - loss: 0.6900 - sparse_categorical_accuracy: 0.0000e+00 - val_loss: 0.6783 - val_sparse_categorical_accuracy: 0.0000e+00\n",
      "Epoch 22/100\n",
      "10/10 [==============================] - 0s 6ms/step - loss: 0.6832 - sparse_categorical_accuracy: 0.0000e+00 - val_loss: 0.6720 - val_sparse_categorical_accuracy: 0.0000e+00\n",
      "Epoch 23/100\n",
      "10/10 [==============================] - 0s 7ms/step - loss: 0.6769 - sparse_categorical_accuracy: 0.0000e+00 - val_loss: 0.6660 - val_sparse_categorical_accuracy: 0.0000e+00\n",
      "Epoch 24/100\n",
      "10/10 [==============================] - 0s 7ms/step - loss: 0.6700 - sparse_categorical_accuracy: 0.0000e+00 - val_loss: 0.6601 - val_sparse_categorical_accuracy: 0.0000e+00\n",
      "Epoch 25/100\n",
      "10/10 [==============================] - 0s 8ms/step - loss: 0.6633 - sparse_categorical_accuracy: 0.0000e+00 - val_loss: 0.6542 - val_sparse_categorical_accuracy: 0.0000e+00\n",
      "Epoch 26/100\n",
      "10/10 [==============================] - 0s 11ms/step - loss: 0.6564 - sparse_categorical_accuracy: 0.0000e+00 - val_loss: 0.6484 - val_sparse_categorical_accuracy: 0.0000e+00\n",
      "Epoch 27/100\n",
      "10/10 [==============================] - 0s 9ms/step - loss: 0.6502 - sparse_categorical_accuracy: 0.0000e+00 - val_loss: 0.6427 - val_sparse_categorical_accuracy: 0.0000e+00\n",
      "Epoch 28/100\n",
      "10/10 [==============================] - 0s 7ms/step - loss: 0.6441 - sparse_categorical_accuracy: 0.0000e+00 - val_loss: 0.6368 - val_sparse_categorical_accuracy: 0.0000e+00\n",
      "Epoch 29/100\n",
      "10/10 [==============================] - 0s 6ms/step - loss: 0.6378 - sparse_categorical_accuracy: 0.0000e+00 - val_loss: 0.6306 - val_sparse_categorical_accuracy: 0.0000e+00\n",
      "Epoch 30/100\n",
      "10/10 [==============================] - 0s 7ms/step - loss: 0.6319 - sparse_categorical_accuracy: 0.0000e+00 - val_loss: 0.6253 - val_sparse_categorical_accuracy: 0.0000e+00\n",
      "Epoch 31/100\n",
      "10/10 [==============================] - 0s 6ms/step - loss: 0.6265 - sparse_categorical_accuracy: 0.0000e+00 - val_loss: 0.6200 - val_sparse_categorical_accuracy: 0.0000e+00\n",
      "Epoch 32/100\n",
      "10/10 [==============================] - 0s 7ms/step - loss: 0.6210 - sparse_categorical_accuracy: 0.0000e+00 - val_loss: 0.6149 - val_sparse_categorical_accuracy: 0.0000e+00\n",
      "Epoch 33/100\n",
      "10/10 [==============================] - 0s 7ms/step - loss: 0.6165 - sparse_categorical_accuracy: 0.0000e+00 - val_loss: 0.6104 - val_sparse_categorical_accuracy: 0.0000e+00\n",
      "Epoch 34/100\n",
      "10/10 [==============================] - 0s 7ms/step - loss: 0.6120 - sparse_categorical_accuracy: 0.0000e+00 - val_loss: 0.6065 - val_sparse_categorical_accuracy: 0.0000e+00\n",
      "Epoch 35/100\n",
      "10/10 [==============================] - 0s 7ms/step - loss: 0.6078 - sparse_categorical_accuracy: 0.0000e+00 - val_loss: 0.6021 - val_sparse_categorical_accuracy: 0.0000e+00\n",
      "Epoch 36/100\n",
      "10/10 [==============================] - 0s 7ms/step - loss: 0.6042 - sparse_categorical_accuracy: 0.0000e+00 - val_loss: 0.5991 - val_sparse_categorical_accuracy: 0.0000e+00\n",
      "Epoch 37/100\n",
      "10/10 [==============================] - 0s 6ms/step - loss: 0.6012 - sparse_categorical_accuracy: 0.0000e+00 - val_loss: 0.5955 - val_sparse_categorical_accuracy: 0.0000e+00\n",
      "Epoch 38/100\n",
      "10/10 [==============================] - 0s 6ms/step - loss: 0.5984 - sparse_categorical_accuracy: 0.0000e+00 - val_loss: 0.5927 - val_sparse_categorical_accuracy: 0.0000e+00\n",
      "Epoch 39/100\n",
      "10/10 [==============================] - 0s 6ms/step - loss: 0.5953 - sparse_categorical_accuracy: 0.0000e+00 - val_loss: 0.5907 - val_sparse_categorical_accuracy: 0.0000e+00\n",
      "Epoch 40/100\n",
      "10/10 [==============================] - 0s 6ms/step - loss: 0.5927 - sparse_categorical_accuracy: 0.0000e+00 - val_loss: 0.5895 - val_sparse_categorical_accuracy: 0.0000e+00\n",
      "Epoch 41/100\n",
      "10/10 [==============================] - 0s 7ms/step - loss: 0.5903 - sparse_categorical_accuracy: 0.0000e+00 - val_loss: 0.5871 - val_sparse_categorical_accuracy: 0.0000e+00\n",
      "Epoch 42/100\n",
      "10/10 [==============================] - 0s 6ms/step - loss: 0.5883 - sparse_categorical_accuracy: 0.0000e+00 - val_loss: 0.5871 - val_sparse_categorical_accuracy: 0.0000e+00\n",
      "Epoch 43/100\n",
      "10/10 [==============================] - 0s 7ms/step - loss: 0.5867 - sparse_categorical_accuracy: 0.0000e+00 - val_loss: 0.5853 - val_sparse_categorical_accuracy: 0.0000e+00\n",
      "Epoch 44/100\n",
      "10/10 [==============================] - 0s 7ms/step - loss: 0.5853 - sparse_categorical_accuracy: 0.0000e+00 - val_loss: 0.5856 - val_sparse_categorical_accuracy: 0.0000e+00\n",
      "Epoch 45/100\n",
      "10/10 [==============================] - 0s 7ms/step - loss: 0.5838 - sparse_categorical_accuracy: 0.0000e+00 - val_loss: 0.5845 - val_sparse_categorical_accuracy: 0.0000e+00\n",
      "Epoch 46/100\n",
      "10/10 [==============================] - 0s 6ms/step - loss: 0.5826 - sparse_categorical_accuracy: 0.0000e+00 - val_loss: 0.5855 - val_sparse_categorical_accuracy: 0.0000e+00\n",
      "Epoch 47/100\n",
      "10/10 [==============================] - 0s 7ms/step - loss: 0.5807 - sparse_categorical_accuracy: 0.0000e+00 - val_loss: 0.5828 - val_sparse_categorical_accuracy: 0.0000e+00\n",
      "Epoch 48/100\n",
      "10/10 [==============================] - 0s 7ms/step - loss: 0.5803 - sparse_categorical_accuracy: 0.0000e+00 - val_loss: 0.5837 - val_sparse_categorical_accuracy: 0.0000e+00\n",
      "Epoch 49/100\n",
      "10/10 [==============================] - 0s 6ms/step - loss: 0.5789 - sparse_categorical_accuracy: 0.0000e+00 - val_loss: 0.5840 - val_sparse_categorical_accuracy: 0.0000e+00\n",
      "Epoch 50/100\n",
      "10/10 [==============================] - 0s 6ms/step - loss: 0.5775 - sparse_categorical_accuracy: 0.0000e+00 - val_loss: 0.5822 - val_sparse_categorical_accuracy: 0.0000e+00\n",
      "Epoch 51/100\n",
      "10/10 [==============================] - 0s 6ms/step - loss: 0.5766 - sparse_categorical_accuracy: 0.0000e+00 - val_loss: 0.5826 - val_sparse_categorical_accuracy: 0.0000e+00\n",
      "Epoch 52/100\n",
      "10/10 [==============================] - 0s 7ms/step - loss: 0.5752 - sparse_categorical_accuracy: 0.0000e+00 - val_loss: 0.5807 - val_sparse_categorical_accuracy: 0.0000e+00\n",
      "Epoch 53/100\n",
      "10/10 [==============================] - 0s 7ms/step - loss: 0.5744 - sparse_categorical_accuracy: 0.0000e+00 - val_loss: 0.5814 - val_sparse_categorical_accuracy: 0.0000e+00\n",
      "Epoch 54/100\n",
      "10/10 [==============================] - 0s 7ms/step - loss: 0.5754 - sparse_categorical_accuracy: 0.0000e+00 - val_loss: 0.5796 - val_sparse_categorical_accuracy: 0.0000e+00\n",
      "Epoch 55/100\n",
      "10/10 [==============================] - 0s 8ms/step - loss: 0.5754 - sparse_categorical_accuracy: 0.0000e+00 - val_loss: 0.5795 - val_sparse_categorical_accuracy: 0.0000e+00\n",
      "Epoch 56/100\n",
      "10/10 [==============================] - 0s 7ms/step - loss: 0.5752 - sparse_categorical_accuracy: 0.0000e+00 - val_loss: 0.5807 - val_sparse_categorical_accuracy: 0.0000e+00\n",
      "Epoch 57/100\n",
      "10/10 [==============================] - 0s 6ms/step - loss: 0.5734 - sparse_categorical_accuracy: 0.0000e+00 - val_loss: 0.5782 - val_sparse_categorical_accuracy: 0.0000e+00\n",
      "Epoch 58/100\n",
      "10/10 [==============================] - 0s 6ms/step - loss: 0.5717 - sparse_categorical_accuracy: 0.0000e+00 - val_loss: 0.5831 - val_sparse_categorical_accuracy: 0.0000e+00\n",
      "Epoch 59/100\n",
      "10/10 [==============================] - 0s 8ms/step - loss: 0.5698 - sparse_categorical_accuracy: 0.0000e+00 - val_loss: 0.5775 - val_sparse_categorical_accuracy: 0.0000e+00\n",
      "Epoch 60/100\n",
      "10/10 [==============================] - 0s 7ms/step - loss: 0.5670 - sparse_categorical_accuracy: 0.0000e+00 - val_loss: 0.5827 - val_sparse_categorical_accuracy: 0.0000e+00\n",
      "Epoch 61/100\n",
      "10/10 [==============================] - 0s 7ms/step - loss: 0.5663 - sparse_categorical_accuracy: 0.0000e+00 - val_loss: 0.5770 - val_sparse_categorical_accuracy: 0.0000e+00\n",
      "Epoch 62/100\n",
      "10/10 [==============================] - 0s 6ms/step - loss: 0.5655 - sparse_categorical_accuracy: 0.0000e+00 - val_loss: 0.5784 - val_sparse_categorical_accuracy: 0.0000e+00\n",
      "Epoch 63/100\n",
      "10/10 [==============================] - 0s 6ms/step - loss: 0.5643 - sparse_categorical_accuracy: 0.0000e+00 - val_loss: 0.5770 - val_sparse_categorical_accuracy: 0.0000e+00\n",
      "Epoch 64/100\n",
      "10/10 [==============================] - 0s 7ms/step - loss: 0.5635 - sparse_categorical_accuracy: 0.0000e+00 - val_loss: 0.5766 - val_sparse_categorical_accuracy: 0.0000e+00\n",
      "Epoch 65/100\n",
      "10/10 [==============================] - 0s 7ms/step - loss: 0.5631 - sparse_categorical_accuracy: 0.0000e+00 - val_loss: 0.5776 - val_sparse_categorical_accuracy: 0.0000e+00\n",
      "Epoch 66/100\n",
      "10/10 [==============================] - 0s 7ms/step - loss: 0.5626 - sparse_categorical_accuracy: 0.0000e+00 - val_loss: 0.5760 - val_sparse_categorical_accuracy: 0.0000e+00\n",
      "Epoch 67/100\n",
      "10/10 [==============================] - 0s 6ms/step - loss: 0.5608 - sparse_categorical_accuracy: 0.0000e+00 - val_loss: 0.5768 - val_sparse_categorical_accuracy: 0.0000e+00\n",
      "Epoch 68/100\n",
      "10/10 [==============================] - 0s 6ms/step - loss: 0.5612 - sparse_categorical_accuracy: 0.0000e+00 - val_loss: 0.5754 - val_sparse_categorical_accuracy: 0.0000e+00\n",
      "Epoch 69/100\n",
      "10/10 [==============================] - 0s 6ms/step - loss: 0.5605 - sparse_categorical_accuracy: 0.0000e+00 - val_loss: 0.5753 - val_sparse_categorical_accuracy: 0.0000e+00\n",
      "Epoch 70/100\n",
      "10/10 [==============================] - 0s 7ms/step - loss: 0.5603 - sparse_categorical_accuracy: 0.0000e+00 - val_loss: 0.5755 - val_sparse_categorical_accuracy: 0.0000e+00\n",
      "Epoch 71/100\n",
      "10/10 [==============================] - 0s 6ms/step - loss: 0.5577 - sparse_categorical_accuracy: 0.0000e+00 - val_loss: 0.5730 - val_sparse_categorical_accuracy: 0.0000e+00\n",
      "Epoch 72/100\n",
      "10/10 [==============================] - 0s 7ms/step - loss: 0.5564 - sparse_categorical_accuracy: 0.0000e+00 - val_loss: 0.5746 - val_sparse_categorical_accuracy: 0.0000e+00\n",
      "Epoch 73/100\n",
      "10/10 [==============================] - 0s 7ms/step - loss: 0.5557 - sparse_categorical_accuracy: 0.0000e+00 - val_loss: 0.5722 - val_sparse_categorical_accuracy: 0.0000e+00\n",
      "Epoch 74/100\n",
      "10/10 [==============================] - 0s 6ms/step - loss: 0.5562 - sparse_categorical_accuracy: 0.0000e+00 - val_loss: 0.5738 - val_sparse_categorical_accuracy: 0.0000e+00\n",
      "Epoch 75/100\n",
      "10/10 [==============================] - 0s 6ms/step - loss: 0.5554 - sparse_categorical_accuracy: 0.0000e+00 - val_loss: 0.5719 - val_sparse_categorical_accuracy: 0.0000e+00\n",
      "Epoch 76/100\n",
      "10/10 [==============================] - 0s 6ms/step - loss: 0.5533 - sparse_categorical_accuracy: 0.0000e+00 - val_loss: 0.5705 - val_sparse_categorical_accuracy: 0.0000e+00\n",
      "Epoch 77/100\n",
      "10/10 [==============================] - 0s 6ms/step - loss: 0.5525 - sparse_categorical_accuracy: 0.0000e+00 - val_loss: 0.5721 - val_sparse_categorical_accuracy: 0.0000e+00\n",
      "Epoch 78/100\n",
      "10/10 [==============================] - 0s 7ms/step - loss: 0.5515 - sparse_categorical_accuracy: 0.0000e+00 - val_loss: 0.5705 - val_sparse_categorical_accuracy: 0.0000e+00\n",
      "Epoch 79/100\n",
      "10/10 [==============================] - 0s 7ms/step - loss: 0.5509 - sparse_categorical_accuracy: 0.0000e+00 - val_loss: 0.5705 - val_sparse_categorical_accuracy: 0.0000e+00\n",
      "Epoch 80/100\n",
      "10/10 [==============================] - 0s 6ms/step - loss: 0.5501 - sparse_categorical_accuracy: 0.0000e+00 - val_loss: 0.5674 - val_sparse_categorical_accuracy: 0.0000e+00\n",
      "Epoch 81/100\n",
      "10/10 [==============================] - 0s 7ms/step - loss: 0.5495 - sparse_categorical_accuracy: 0.0000e+00 - val_loss: 0.5714 - val_sparse_categorical_accuracy: 0.0000e+00\n",
      "Epoch 82/100\n",
      "10/10 [==============================] - 0s 7ms/step - loss: 0.5484 - sparse_categorical_accuracy: 0.0000e+00 - val_loss: 0.5684 - val_sparse_categorical_accuracy: 0.0000e+00\n",
      "Epoch 83/100\n",
      "10/10 [==============================] - 0s 7ms/step - loss: 0.5486 - sparse_categorical_accuracy: 0.0000e+00 - val_loss: 0.5718 - val_sparse_categorical_accuracy: 0.0000e+00\n",
      "Epoch 84/100\n",
      "10/10 [==============================] - 0s 7ms/step - loss: 0.5486 - sparse_categorical_accuracy: 0.0000e+00 - val_loss: 0.5682 - val_sparse_categorical_accuracy: 0.0000e+00\n",
      "Epoch 85/100\n",
      "10/10 [==============================] - 0s 8ms/step - loss: 0.5459 - sparse_categorical_accuracy: 0.0000e+00 - val_loss: 0.5734 - val_sparse_categorical_accuracy: 0.0000e+00\n"
     ]
    }
   ],
   "source": [
    "history = model.fit(\n",
    "    x_train,y_train,\n",
    "    validation_data=(x_val,y_val),\n",
    "    epochs=100,\n",
    "    batch_size=200,\n",
    "    callbacks=early_stopping\n",
    ")"
   ]
  },
  {
   "cell_type": "code",
   "execution_count": 51,
   "metadata": {},
   "outputs": [
    {
     "name": "stdout",
     "output_type": "stream",
     "text": [
      "43/43 [==============================] - 0s 1ms/step\n"
     ]
    }
   ],
   "source": [
    "result = model.predict(x_test)"
   ]
  },
  {
   "cell_type": "code",
   "execution_count": 52,
   "metadata": {},
   "outputs": [
    {
     "data": {
      "text/plain": [
       "<AxesSubplot: ylabel='Count'>"
      ]
     },
     "execution_count": 52,
     "metadata": {},
     "output_type": "execute_result"
    },
    {
     "data": {
      "image/png": "[encoded data removed]",
      "text/plain": [
       "<Figure size 640x480 with 1 Axes>"
      ]
     },
     "metadata": {},
     "output_type": "display_data"
    }
   ],
   "source": [
    "sns.histplot(result)"
   ]
  },
  {
   "cell_type": "code",
   "execution_count": 53,
   "metadata": {},
   "outputs": [
    {
     "data": {
      "text/plain": [
       "array([4.3720393], dtype=float32)"
      ]
     },
     "execution_count": 53,
     "metadata": {},
     "output_type": "execute_result"
    }
   ],
   "source": [
    "min(result)"
   ]
  },
  {
   "cell_type": "code",
   "execution_count": 54,
   "metadata": {},
   "outputs": [],
   "source": [
    "def assign_int(num):\n",
    "    if 0.5<=num<1.5: out = 1\n",
    "    if 1.5<=num<2.5: out = 2\n",
    "    if 2.5<=num<3.5: out = 3\n",
    "    if 3.5<=num<4.5: out = 4\n",
    "    if 4.5<=num<5.5: out = 5\n",
    "    if 5.5<=num<6.5: out = 6\n",
    "    if 6.5<=num<7.5: out = 7\n",
    "    if 7.5<=num<8.5: out = 8\n",
    "    if 8.5<=num<9.5: out = 9\n",
    "    return out"
   ]
  },
  {
   "cell_type": "code",
   "execution_count": 55,
   "metadata": {},
   "outputs": [],
   "source": [
    "new_result = []\n",
    "for num in result:\n",
    "    new_result.append(assign_int(num))"
   ]
  },
  {
   "cell_type": "code",
   "execution_count": 56,
   "metadata": {},
   "outputs": [],
   "source": [
    "df = pd.DataFrame({'Id':test_data['Id'].values, 'quality':new_result})\n",
    "df.to_csv('submission.csv', index=False)"
   ]
  }
 ],
 "metadata": {
  "kernelspec": {
   "display_name": "Python 3",
   "language": "python",
   "name": "python3"
  },
  "language_info": {
   "codemirror_mode": {
    "name": "ipython",
    "version": 3
   },
   "file_extension": ".py",
   "mimetype": "text/x-python",
   "name": "python",
   "nbconvert_exporter": "python",
   "pygments_lexer": "ipython3",
   "version": "3.10.9"
  },
  "orig_nbformat": 4,
  "vscode": {
   "interpreter": {
    "hash": "53d7f2fa65778ede7cd5f51f4cac3b3be75ffd0c3172768f628c81b4138d91cf"
   }
  }
 },
 "nbformat": 4,
 "nbformat_minor": 2
}
